{
 "cells": [
  {
   "cell_type": "code",
   "execution_count": 2,
   "metadata": {},
   "outputs": [],
   "source": [
    "\n",
    "import pandas as pd\n",
    "import numpy as np\n",
    "import seaborn as sns\n",
    "\n",
    "\n",
    "import matplotlib.pyplot as plt\n",
    "import datetime as dt\n",
    "\n",
    "plt.style.use('seaborn-deep')\n",
    "\n",
    "%matplotlib inline\n",
    "\n",
    "sns.set()\n"
   ]
  },
  {
   "cell_type": "code",
   "execution_count": 3,
   "metadata": {},
   "outputs": [],
   "source": [
    "df = pd.read_csv(\"../../../Data/DataRaw/set_structures.csv\")"
   ]
  },
  {
   "cell_type": "code",
   "execution_count": 4,
   "metadata": {},
   "outputs": [
    {
     "name": "stdout",
     "output_type": "stream",
     "text": [
      "<class 'pandas.core.frame.DataFrame'>\n",
      "RangeIndex: 121386 entries, 0 to 121385\n",
      "Data columns (total 5 columns):\n",
      "Address    121386 non-null object\n",
      "Team       121386 non-null object\n",
      "Time       113780 non-null float64\n",
      "Lane       113780 non-null object\n",
      "Type       113780 non-null object\n",
      "dtypes: float64(1), object(4)\n",
      "memory usage: 4.6+ MB\n"
     ]
    }
   ],
   "source": [
    "df.info()"
   ]
  },
  {
   "cell_type": "code",
   "execution_count": 5,
   "metadata": {},
   "outputs": [
    {
     "data": {
      "text/plain": [
       "array(['BASE_TURRET', 'NEXUS_TURRET', 'INNER_TURRET', 'OUTER_TURRET',\n",
       "       'FOUNTAIN_TURRET', nan, 'INHIBITOR'], dtype=object)"
      ]
     },
     "execution_count": 5,
     "metadata": {},
     "output_type": "execute_result"
    }
   ],
   "source": [
    "df.Type.unique()"
   ]
  },
  {
   "cell_type": "code",
   "execution_count": 6,
   "metadata": {},
   "outputs": [],
   "source": [
    "\n",
    "df_base = df.query('Type==\"BASE_TURRET\"')\n",
    "df_nexus = df.query('Type==\"NEXUS_TURRET\"')\n",
    "df_inner = df.query('Type==\"INNER_TURRET\"')\n",
    "df_outer = df.query('Type==\"OUTER_TURRET\"')\n",
    "df_fount = df.query('Type==\"FOUNTAIN_TURRET\"')\n",
    "df_inhi = df.query('Type==\"INHIBITOR\"')\n",
    "df_nan = df.query('Type==\"nan\"')\n",
    "\n"
   ]
  },
  {
   "cell_type": "code",
   "execution_count": 7,
   "metadata": {},
   "outputs": [
    {
     "data": {
      "text/html": [
       "<div>\n",
       "<style scoped>\n",
       "    .dataframe tbody tr th:only-of-type {\n",
       "        vertical-align: middle;\n",
       "    }\n",
       "\n",
       "    .dataframe tbody tr th {\n",
       "        vertical-align: top;\n",
       "    }\n",
       "\n",
       "    .dataframe thead th {\n",
       "        text-align: right;\n",
       "    }\n",
       "</style>\n",
       "<table border=\"1\" class=\"dataframe\">\n",
       "  <thead>\n",
       "    <tr style=\"text-align: right;\">\n",
       "      <th></th>\n",
       "      <th>Address</th>\n",
       "      <th>Team</th>\n",
       "      <th>Time</th>\n",
       "      <th>Lane</th>\n",
       "      <th>Type</th>\n",
       "    </tr>\n",
       "  </thead>\n",
       "  <tbody>\n",
       "    <tr>\n",
       "      <th>11</th>\n",
       "      <td>http://matchhistory.na.leagueoflegends.com/en/...</td>\n",
       "      <td>bTowers</td>\n",
       "      <td>28.989</td>\n",
       "      <td>BOT_LANE</td>\n",
       "      <td>FOUNTAIN_TURRET</td>\n",
       "    </tr>\n",
       "    <tr>\n",
       "      <th>13</th>\n",
       "      <td>http://matchhistory.na.leagueoflegends.com/en/...</td>\n",
       "      <td>bTowers</td>\n",
       "      <td>20.058</td>\n",
       "      <td>BOT_LANE</td>\n",
       "      <td>FOUNTAIN_TURRET</td>\n",
       "    </tr>\n",
       "    <tr>\n",
       "      <th>20</th>\n",
       "      <td>http://matchhistory.na.leagueoflegends.com/en/...</td>\n",
       "      <td>bTowers</td>\n",
       "      <td>25.120</td>\n",
       "      <td>BOT_LANE</td>\n",
       "      <td>FOUNTAIN_TURRET</td>\n",
       "    </tr>\n",
       "    <tr>\n",
       "      <th>21</th>\n",
       "      <td>http://matchhistory.na.leagueoflegends.com/en/...</td>\n",
       "      <td>bTowers</td>\n",
       "      <td>38.445</td>\n",
       "      <td>BOT_LANE</td>\n",
       "      <td>FOUNTAIN_TURRET</td>\n",
       "    </tr>\n",
       "    <tr>\n",
       "      <th>24</th>\n",
       "      <td>http://matchhistory.na.leagueoflegends.com/en/...</td>\n",
       "      <td>bTowers</td>\n",
       "      <td>18.294</td>\n",
       "      <td>BOT_LANE</td>\n",
       "      <td>FOUNTAIN_TURRET</td>\n",
       "    </tr>\n",
       "    <tr>\n",
       "      <th>...</th>\n",
       "      <td>...</td>\n",
       "      <td>...</td>\n",
       "      <td>...</td>\n",
       "      <td>...</td>\n",
       "      <td>...</td>\n",
       "    </tr>\n",
       "    <tr>\n",
       "      <th>64640</th>\n",
       "      <td>http://matchhistory.na.leagueoflegends.com/en/...</td>\n",
       "      <td>rTowers</td>\n",
       "      <td>41.261</td>\n",
       "      <td>BOT_LANE</td>\n",
       "      <td>FOUNTAIN_TURRET</td>\n",
       "    </tr>\n",
       "    <tr>\n",
       "      <th>64642</th>\n",
       "      <td>http://matchhistory.na.leagueoflegends.com/en/...</td>\n",
       "      <td>rTowers</td>\n",
       "      <td>20.720</td>\n",
       "      <td>BOT_LANE</td>\n",
       "      <td>FOUNTAIN_TURRET</td>\n",
       "    </tr>\n",
       "    <tr>\n",
       "      <th>64644</th>\n",
       "      <td>http://matchhistory.na.leagueoflegends.com/en/...</td>\n",
       "      <td>rTowers</td>\n",
       "      <td>31.678</td>\n",
       "      <td>BOT_LANE</td>\n",
       "      <td>FOUNTAIN_TURRET</td>\n",
       "    </tr>\n",
       "    <tr>\n",
       "      <th>64645</th>\n",
       "      <td>http://matchhistory.na.leagueoflegends.com/en/...</td>\n",
       "      <td>rTowers</td>\n",
       "      <td>36.571</td>\n",
       "      <td>BOT_LANE</td>\n",
       "      <td>FOUNTAIN_TURRET</td>\n",
       "    </tr>\n",
       "    <tr>\n",
       "      <th>94681</th>\n",
       "      <td>http://matchhistory.na.leagueoflegends.com/en/...</td>\n",
       "      <td>rTowers</td>\n",
       "      <td>11.848</td>\n",
       "      <td>BOT_LANE</td>\n",
       "      <td>FOUNTAIN_TURRET</td>\n",
       "    </tr>\n",
       "  </tbody>\n",
       "</table>\n",
       "<p>78 rows × 5 columns</p>\n",
       "</div>"
      ],
      "text/plain": [
       "                                                 Address     Team    Time  \\\n",
       "11     http://matchhistory.na.leagueoflegends.com/en/...  bTowers  28.989   \n",
       "13     http://matchhistory.na.leagueoflegends.com/en/...  bTowers  20.058   \n",
       "20     http://matchhistory.na.leagueoflegends.com/en/...  bTowers  25.120   \n",
       "21     http://matchhistory.na.leagueoflegends.com/en/...  bTowers  38.445   \n",
       "24     http://matchhistory.na.leagueoflegends.com/en/...  bTowers  18.294   \n",
       "...                                                  ...      ...     ...   \n",
       "64640  http://matchhistory.na.leagueoflegends.com/en/...  rTowers  41.261   \n",
       "64642  http://matchhistory.na.leagueoflegends.com/en/...  rTowers  20.720   \n",
       "64644  http://matchhistory.na.leagueoflegends.com/en/...  rTowers  31.678   \n",
       "64645  http://matchhistory.na.leagueoflegends.com/en/...  rTowers  36.571   \n",
       "94681  http://matchhistory.na.leagueoflegends.com/en/...  rTowers  11.848   \n",
       "\n",
       "           Lane             Type  \n",
       "11     BOT_LANE  FOUNTAIN_TURRET  \n",
       "13     BOT_LANE  FOUNTAIN_TURRET  \n",
       "20     BOT_LANE  FOUNTAIN_TURRET  \n",
       "21     BOT_LANE  FOUNTAIN_TURRET  \n",
       "24     BOT_LANE  FOUNTAIN_TURRET  \n",
       "...         ...              ...  \n",
       "64640  BOT_LANE  FOUNTAIN_TURRET  \n",
       "64642  BOT_LANE  FOUNTAIN_TURRET  \n",
       "64644  BOT_LANE  FOUNTAIN_TURRET  \n",
       "64645  BOT_LANE  FOUNTAIN_TURRET  \n",
       "94681  BOT_LANE  FOUNTAIN_TURRET  \n",
       "\n",
       "[78 rows x 5 columns]"
      ]
     },
     "execution_count": 7,
     "metadata": {},
     "output_type": "execute_result"
    }
   ],
   "source": [
    "df_fount"
   ]
  },
  {
   "cell_type": "code",
   "execution_count": 8,
   "metadata": {},
   "outputs": [
    {
     "data": {
      "image/png": "[encoded data removed]",
      "text/plain": [
       "<Figure size 1440x1080 with 1 Axes>"
      ]
     },
     "metadata": {
      "needs_background": "light"
     },
     "output_type": "display_data"
    }
   ],
   "source": [
    "\n",
    "\n",
    "fig, ax = plt.subplots(figsize=(20,15))\n",
    "plt.title(\"Desctruction des structure dans le temps\", fontsize=20)\n",
    "plt.xlabel(\"Temp\", fontsize=15)\n",
    "plt.ylabel(\"Nombre de structure detruite\", fontsize=15)\n",
    "\n",
    "plt.hist([df_base.Time,df_nexus.Time,df_inner.Time,df_outer.Time,df_inhi.Time],\n",
    "         stacked=True,bins=100)\n",
    "plt.legend([\"Tourelles d'inhibiteur\",\"Tourelles du Nexus\",\"Tourelles interieur\",\"Tourelles exterieur\",\"Inhibiteur\"])\n",
    "\n",
    "plt.show()\n"
   ]
  },
  {
   "cell_type": "code",
   "execution_count": 9,
   "metadata": {},
   "outputs": [
    {
     "data": {
      "text/html": [
       "<div>\n",
       "<style scoped>\n",
       "    .dataframe tbody tr th:only-of-type {\n",
       "        vertical-align: middle;\n",
       "    }\n",
       "\n",
       "    .dataframe tbody tr th {\n",
       "        vertical-align: top;\n",
       "    }\n",
       "\n",
       "    .dataframe thead th {\n",
       "        text-align: right;\n",
       "    }\n",
       "</style>\n",
       "<table border=\"1\" class=\"dataframe\">\n",
       "  <thead>\n",
       "    <tr style=\"text-align: right;\">\n",
       "      <th></th>\n",
       "      <th>Address</th>\n",
       "      <th>Team</th>\n",
       "      <th>Time</th>\n",
       "      <th>Lane</th>\n",
       "      <th>Type</th>\n",
       "    </tr>\n",
       "  </thead>\n",
       "  <tbody>\n",
       "    <tr>\n",
       "      <th>0</th>\n",
       "      <td>http://matchhistory.na.leagueoflegends.com/en/...</td>\n",
       "      <td>bTowers</td>\n",
       "      <td>27.542</td>\n",
       "      <td>MID_LANE</td>\n",
       "      <td>BASE_TURRET</td>\n",
       "    </tr>\n",
       "    <tr>\n",
       "      <th>1</th>\n",
       "      <td>http://matchhistory.na.leagueoflegends.com/en/...</td>\n",
       "      <td>bTowers</td>\n",
       "      <td>39.269</td>\n",
       "      <td>MID_LANE</td>\n",
       "      <td>NEXUS_TURRET</td>\n",
       "    </tr>\n",
       "    <tr>\n",
       "      <th>2</th>\n",
       "      <td>http://matchhistory.na.leagueoflegends.com/en/...</td>\n",
       "      <td>bTowers</td>\n",
       "      <td>33.583</td>\n",
       "      <td>BOT_LANE</td>\n",
       "      <td>INNER_TURRET</td>\n",
       "    </tr>\n",
       "    <tr>\n",
       "      <th>3</th>\n",
       "      <td>http://matchhistory.na.leagueoflegends.com/en/...</td>\n",
       "      <td>bTowers</td>\n",
       "      <td>23.038</td>\n",
       "      <td>TOP_LANE</td>\n",
       "      <td>INNER_TURRET</td>\n",
       "    </tr>\n",
       "    <tr>\n",
       "      <th>4</th>\n",
       "      <td>http://matchhistory.na.leagueoflegends.com/en/...</td>\n",
       "      <td>bTowers</td>\n",
       "      <td>16.556</td>\n",
       "      <td>BOT_LANE</td>\n",
       "      <td>OUTER_TURRET</td>\n",
       "    </tr>\n",
       "  </tbody>\n",
       "</table>\n",
       "</div>"
      ],
      "text/plain": [
       "                                             Address     Team    Time  \\\n",
       "0  http://matchhistory.na.leagueoflegends.com/en/...  bTowers  27.542   \n",
       "1  http://matchhistory.na.leagueoflegends.com/en/...  bTowers  39.269   \n",
       "2  http://matchhistory.na.leagueoflegends.com/en/...  bTowers  33.583   \n",
       "3  http://matchhistory.na.leagueoflegends.com/en/...  bTowers  23.038   \n",
       "4  http://matchhistory.na.leagueoflegends.com/en/...  bTowers  16.556   \n",
       "\n",
       "       Lane          Type  \n",
       "0  MID_LANE   BASE_TURRET  \n",
       "1  MID_LANE  NEXUS_TURRET  \n",
       "2  BOT_LANE  INNER_TURRET  \n",
       "3  TOP_LANE  INNER_TURRET  \n",
       "4  BOT_LANE  OUTER_TURRET  "
      ]
     },
     "execution_count": 9,
     "metadata": {},
     "output_type": "execute_result"
    }
   ],
   "source": [
    "df.head()"
   ]
  },
  {
   "cell_type": "code",
   "execution_count": 11,
   "metadata": {},
   "outputs": [],
   "source": [
    "#Todo, voire relation entre type temp et lane."
   ]
  },
  {
   "cell_type": "code",
   "execution_count": 18,
   "metadata": {},
   "outputs": [
    {
     "data": {
      "text/plain": [
       "6860"
      ]
     },
     "execution_count": 18,
     "metadata": {},
     "output_type": "execute_result"
    }
   ],
   "source": [
    "len(df[df.Type.isna()].Address.unique())"
   ]
  },
  {
   "cell_type": "code",
   "execution_count": 17,
   "metadata": {},
   "outputs": [
    {
     "data": {
      "text/plain": [
       "7620"
      ]
     },
     "execution_count": 17,
     "metadata": {},
     "output_type": "execute_result"
    }
   ],
   "source": [
    "len(df.Address.unique())"
   ]
  },
  {
   "cell_type": "code",
   "execution_count": null,
   "metadata": {},
   "outputs": [],
   "source": []
  },
  {
   "cell_type": "code",
   "execution_count": null,
   "metadata": {},
   "outputs": [],
   "source": []
  }
 ],
 "metadata": {
  "kernelspec": {
   "display_name": "Python 3",
   "language": "python",
   "name": "python3"
  },
  "language_info": {
   "codemirror_mode": {
    "name": "ipython",
    "version": 3
   },
   "file_extension": ".py",
   "mimetype": "text/x-python",
   "name": "python",
   "nbconvert_exporter": "python",
   "pygments_lexer": "ipython3",
   "version": "3.7.4"
  }
 },
 "nbformat": 4,
 "nbformat_minor": 4
}
