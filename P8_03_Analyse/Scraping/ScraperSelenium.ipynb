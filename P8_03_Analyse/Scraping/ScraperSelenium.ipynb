{
 "cells": [
  {
   "cell_type": "code",
   "execution_count": 8,
   "metadata": {},
   "outputs": [],
   "source": [
    "import pandas as pd\n",
    "from selenium import webdriver\n",
    "from bs4 import BeautifulSoup\n",
    "import requests\n",
    "from lxml import html\n",
    "import time\n"
   ]
  },
  {
   "cell_type": "code",
   "execution_count": 29,
   "metadata": {},
   "outputs": [],
   "source": [
    "\n",
    "USERNAME = \"LeFaucheur1971\"\n",
    "PASSWORD = \"Gowenus117\"\n",
    "REGION =  \"EUW1\"\n",
    "\n",
    "LOGIN_URL     = \"https://auth.riotgames.com/login#client_id=rso-web-client-prod&login_hint=na&redirect_uri=https%3A%2F%2Flogin.leagueoflegends.com%2Foauth2-callback&response_type=code&scope=openid&state=lNIAI6NiOlWAd1bGuL0h5lUfqy30ila1l6qYgm-AZLU&ui_locales=en-us\"\n",
    "DASHBOARD_URL = \"https://matchhistory.na.leagueoflegends.com/en/#match-details/TRLH1/30030?gameHash=fbb300951ad8327c&tab=stats\"\n"
   ]
  },
  {
   "cell_type": "code",
   "execution_count": 2,
   "metadata": {},
   "outputs": [
    {
     "ename": "SyntaxError",
     "evalue": "(unicode error) 'unicodeescape' codec can't decode bytes in position 2-3: truncated \\UXXXXXXXX escape (<ipython-input-2-f22a51824b29>, line 13)",
     "output_type": "error",
     "traceback": [
      "\u001b[1;36m  File \u001b[1;32m\"<ipython-input-2-f22a51824b29>\"\u001b[1;36m, line \u001b[1;32m13\u001b[0m\n\u001b[1;33m    fp=webdriver.FirefoxProfile(\"C:\\Users\\OwenA\\AppData\\Roaming\\Mozilla\\FireFox\\Profiles\\manllepu.default-releaser-1575121296510\")\u001b[0m\n\u001b[1;37m                               ^\u001b[0m\n\u001b[1;31mSyntaxError\u001b[0m\u001b[1;31m:\u001b[0m (unicode error) 'unicodeescape' codec can't decode bytes in position 2-3: truncated \\UXXXXXXXX escape\n"
     ]
    }
   ],
   "source": [
    "from selenium import webdriver\n",
    "from selenium.webdriver.common.by import By\n",
    "from selenium.webdriver.common.keys import Keys\n",
    "from selenium.webdriver.support.ui import Select\n",
    "from selenium.webdriver.support.ui import WebDriverWait\n",
    "from selenium.common.exceptions import TimeoutException\n",
    "from selenium.webdriver.support import expected_conditions as EC\n",
    "from selenium.common.exceptions import NoSuchElementException\n",
    "from selenium.common.exceptions import NoAlertPresentException\n",
    "\n",
    "\n",
    "#replace with your firefox profile\n",
    "fp=webdriver.FirefoxProfile(\"C:\\Users\\OwenA\\AppData\\Roaming\\Mozilla\\FireFox\\Profiles\\manllepu.default-releaser-1575121296510\")\n",
    "#enter your url here\n",
    "url=\"https://matchhistory.na.leagueoflegends.com/en/#match-details/ESPORTSTMNT03/520903?gameHash=13203adbaa0c1fa5&tab=overview\"\n",
    "driver = webdriver.Firefox(fp)\n",
    "driver.get(url)\n",
    "\n",
    "html_source = driver.page_source"
   ]
  },
  {
   "cell_type": "code",
   "execution_count": null,
   "metadata": {},
   "outputs": [],
   "source": []
  }
 ],
 "metadata": {
  "kernelspec": {
   "display_name": "Python 3",
   "language": "python",
   "name": "python3"
  },
  "language_info": {
   "codemirror_mode": {
    "name": "ipython",
    "version": 3
   },
   "file_extension": ".py",
   "mimetype": "text/x-python",
   "name": "python",
   "nbconvert_exporter": "python",
   "pygments_lexer": "ipython3",
   "version": "3.7.4"
  }
 },
 "nbformat": 4,
 "nbformat_minor": 2
}
